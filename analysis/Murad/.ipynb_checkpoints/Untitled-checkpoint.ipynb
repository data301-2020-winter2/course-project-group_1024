{
 "cells": [
  {
   "cell_type": "code",
   "execution_count": 68,
   "metadata": {},
   "outputs": [
    {
     "name": "stdout",
     "output_type": "stream",
     "text": [
      "   CLIENTNUM     Attrition_Flag  Age Gender  Dependent_count      Education  \\\n",
      "0  768805383  Existing Customer   45      M                3    High School   \n",
      "1  818770008  Existing Customer   49      F                5       Graduate   \n",
      "2  713982108  Existing Customer   51      M                3       Graduate   \n",
      "3  709106358  Existing Customer   40      M                3     Uneducated   \n",
      "4  713061558  Existing Customer   44      M                2       Graduate   \n",
      "5  710930508  Existing Customer   37      M                3     Uneducated   \n",
      "6  719661558  Existing Customer   48      M                2       Graduate   \n",
      "7  710599683  Existing Customer   56      M                1        College   \n",
      "8  712396908  Existing Customer   57      F                2       Graduate   \n",
      "9  709967358  Existing Customer   48      M                4  Post-Graduate   \n",
      "\n",
      "  Marital_Status          Income Card Type  Months_on_book  \\\n",
      "0        Married     $60K - $80K      Blue              39   \n",
      "1         Single  Less than $40K      Blue              44   \n",
      "2        Married    $80K - $120K      Blue              36   \n",
      "3        Married     $60K - $80K      Blue              21   \n",
      "4        Married     $40K - $60K      Blue              36   \n",
      "5         Single     $60K - $80K      Blue              36   \n",
      "6         Single    $80K - $120K      Blue              36   \n",
      "7         Single    $80K - $120K      Blue              36   \n",
      "8        Married  Less than $40K      Blue              48   \n",
      "9         Single    $80K - $120K      Blue              36   \n",
      "\n",
      "   Relationship Count  Months Inactive  Contacts_Count_12_mon  Credit Limit  \\\n",
      "0                   5                1                      3       12691.0   \n",
      "1                   6                1                      2        8256.0   \n",
      "2                   4                1                      0        3418.0   \n",
      "3                   5                1                      0        4716.0   \n",
      "4                   3                1                      2        4010.0   \n",
      "5                   5                2                      0       22352.0   \n",
      "6                   6                3                      3       11656.0   \n",
      "7                   3                6                      0       11751.0   \n",
      "8                   5                2                      2        2436.0   \n",
      "9                   6                2                      3       30367.0   \n",
      "\n",
      "   Total_Revolving_Bal  Avg_Open_To_Buy  Total_Trans_Amt  Total_Trans_Ct  \\\n",
      "0                  777          11914.0             1144              42   \n",
      "1                  864           7392.0             1291              33   \n",
      "2                    0           3418.0             1887              20   \n",
      "3                    0           4716.0              816              28   \n",
      "4                 1247           2763.0             1088              24   \n",
      "5                 2517          19835.0             1350              24   \n",
      "6                 1677           9979.0             1441              32   \n",
      "7                    0          11751.0             1539              17   \n",
      "8                  680           1756.0             1570              29   \n",
      "9                 2362          28005.0             1671              27   \n",
      "\n",
      "   Avg_Utilization_Ratio  \n",
      "0                  0.061  \n",
      "1                  0.105  \n",
      "2                  0.000  \n",
      "3                  0.000  \n",
      "4                  0.311  \n",
      "5                  0.113  \n",
      "6                  0.144  \n",
      "7                  0.000  \n",
      "8                  0.279  \n",
      "9                  0.078  \n",
      "      CLIENTNUM     Attrition_Flag  Age Gender  Dependent_count    Education  \\\n",
      "7071  713733633  Attrited Customer   27      M                0  High School   \n",
      "7072  720841533  Existing Customer   29      M                0     Graduate   \n",
      "7073  712210458  Existing Customer   38      M                1   Uneducated   \n",
      "7074  714109308  Existing Customer   46      M                5      College   \n",
      "7075  712503408  Existing Customer   57      M                2     Graduate   \n",
      "7076  710841183  Existing Customer   54      M                1  High School   \n",
      "7077  713899383  Existing Customer   56      F                1     Graduate   \n",
      "7078  772366833  Existing Customer   50      M                2     Graduate   \n",
      "7079  716506083  Attrited Customer   44      F                1  High School   \n",
      "7080  714337233  Attrited Customer   43      F                2     Graduate   \n",
      "\n",
      "     Marital_Status          Income Card Type  Months_on_book  \\\n",
      "7071       Divorced     $60K - $80K      Blue              36   \n",
      "7072        Married  Less than $40K      Blue              15   \n",
      "7073         Single     $40K - $60K      Blue              36   \n",
      "7074         Single    $80K - $120K      Blue              36   \n",
      "7075        Married    $80K - $120K      Blue              40   \n",
      "7076         Single     $60K - $80K      Blue              34   \n",
      "7077         Single  Less than $40K      Blue              50   \n",
      "7078         Single     $40K - $60K      Blue              40   \n",
      "7079        Married  Less than $40K      Blue              36   \n",
      "7080        Married  Less than $40K    Silver              25   \n",
      "\n",
      "      Relationship Count  Months Inactive  Contacts_Count_12_mon  \\\n",
      "7071                   2                3                      2   \n",
      "7072                   3                1                      5   \n",
      "7073                   2                3                      2   \n",
      "7074                   1                2                      3   \n",
      "7075                   6                3                      4   \n",
      "7076                   5                2                      0   \n",
      "7077                   4                1                      4   \n",
      "7078                   3                2                      3   \n",
      "7079                   5                3                      4   \n",
      "7080                   6                2                      4   \n",
      "\n",
      "      Credit Limit  Total_Revolving_Bal  Avg_Open_To_Buy  Total_Trans_Amt  \\\n",
      "7071       13303.0                 2517          10786.0            10219   \n",
      "7072        4700.0                    0           4700.0            14723   \n",
      "7073        5639.0                 1558           4081.0            16628   \n",
      "7074       13187.0                 2241          10946.0            15354   \n",
      "7075       17925.0                 1909          16016.0            17498   \n",
      "7076       13940.0                 2109          11831.0            15577   \n",
      "7077        3688.0                  606           3082.0            14596   \n",
      "7078        4003.0                 1851           2152.0            15476   \n",
      "7079        5409.0                    0           5409.0            10291   \n",
      "7080       10388.0                 1961           8427.0            10294   \n",
      "\n",
      "      Total_Trans_Ct  Avg_Utilization_Ratio  \n",
      "7071              85                  0.189  \n",
      "7072              96                  0.000  \n",
      "7073             109                  0.276  \n",
      "7074             112                  0.170  \n",
      "7075             111                  0.106  \n",
      "7076             114                  0.151  \n",
      "7077             120                  0.164  \n",
      "7078             117                  0.462  \n",
      "7079              60                  0.000  \n",
      "7080              61                  0.189  \n"
     ]
    }
   ],
   "source": [
    "from Scripts_Murad import project_functions # This is called a relative import\n",
    "df = project_functions.load_and_process(\"../../data/raw/BankCustomers.csv\")\n",
    "print(df.head(10))\n",
    "print(df.tail(10))"
   ]
  },
  {
   "cell_type": "code",
   "execution_count": 3,
   "metadata": {},
   "outputs": [],
   "source": [
    "import pandas as pd\n",
    "import numpy as np\n",
    "import matplotlib.pyplot as plt\n",
    "import seaborn as sns"
   ]
  },
  {
   "cell_type": "markdown",
   "metadata": {},
   "source": [
    "# EDA"
   ]
  },
  {
   "cell_type": "code",
   "execution_count": 4,
   "metadata": {},
   "outputs": [
    {
     "data": {
      "text/html": [
       "<div>\n",
       "<style scoped>\n",
       "    .dataframe tbody tr th:only-of-type {\n",
       "        vertical-align: middle;\n",
       "    }\n",
       "\n",
       "    .dataframe tbody tr th {\n",
       "        vertical-align: top;\n",
       "    }\n",
       "\n",
       "    .dataframe thead th {\n",
       "        text-align: right;\n",
       "    }\n",
       "</style>\n",
       "<table border=\"1\" class=\"dataframe\">\n",
       "  <thead>\n",
       "    <tr style=\"text-align: right;\">\n",
       "      <th></th>\n",
       "      <th>CLIENTNUM</th>\n",
       "      <th>Age</th>\n",
       "      <th>Dependent_count</th>\n",
       "      <th>Months_on_book</th>\n",
       "      <th>Relationship Count</th>\n",
       "      <th>Months Inactive</th>\n",
       "      <th>Contacts_Count_12_mon</th>\n",
       "      <th>Credit Limit</th>\n",
       "      <th>Total_Revolving_Bal</th>\n",
       "      <th>Avg_Open_To_Buy</th>\n",
       "      <th>Total_Trans_Amt</th>\n",
       "      <th>Total_Trans_Ct</th>\n",
       "      <th>Avg_Utilization_Ratio</th>\n",
       "    </tr>\n",
       "  </thead>\n",
       "  <tbody>\n",
       "    <tr>\n",
       "      <th>count</th>\n",
       "      <td>7.081000e+03</td>\n",
       "      <td>7081.000000</td>\n",
       "      <td>7081.000000</td>\n",
       "      <td>7081.000000</td>\n",
       "      <td>7081.000000</td>\n",
       "      <td>7081.000000</td>\n",
       "      <td>7081.000000</td>\n",
       "      <td>7081.000000</td>\n",
       "      <td>7081.000000</td>\n",
       "      <td>7081.000000</td>\n",
       "      <td>7081.000000</td>\n",
       "      <td>7081.000000</td>\n",
       "      <td>7081.000000</td>\n",
       "    </tr>\n",
       "    <tr>\n",
       "      <th>mean</th>\n",
       "      <td>7.390919e+08</td>\n",
       "      <td>46.347691</td>\n",
       "      <td>2.337805</td>\n",
       "      <td>35.981359</td>\n",
       "      <td>3.819376</td>\n",
       "      <td>2.342607</td>\n",
       "      <td>2.454456</td>\n",
       "      <td>8492.773831</td>\n",
       "      <td>1167.501624</td>\n",
       "      <td>7325.272207</td>\n",
       "      <td>4394.299816</td>\n",
       "      <td>64.503319</td>\n",
       "      <td>0.282313</td>\n",
       "    </tr>\n",
       "    <tr>\n",
       "      <th>std</th>\n",
       "      <td>3.685244e+07</td>\n",
       "      <td>8.041225</td>\n",
       "      <td>1.291649</td>\n",
       "      <td>8.002609</td>\n",
       "      <td>1.544444</td>\n",
       "      <td>0.995104</td>\n",
       "      <td>1.104917</td>\n",
       "      <td>9126.072520</td>\n",
       "      <td>812.315606</td>\n",
       "      <td>9131.217585</td>\n",
       "      <td>3468.461606</td>\n",
       "      <td>23.809330</td>\n",
       "      <td>0.278731</td>\n",
       "    </tr>\n",
       "    <tr>\n",
       "      <th>min</th>\n",
       "      <td>7.080821e+08</td>\n",
       "      <td>26.000000</td>\n",
       "      <td>0.000000</td>\n",
       "      <td>13.000000</td>\n",
       "      <td>1.000000</td>\n",
       "      <td>0.000000</td>\n",
       "      <td>0.000000</td>\n",
       "      <td>1438.300000</td>\n",
       "      <td>0.000000</td>\n",
       "      <td>3.000000</td>\n",
       "      <td>510.000000</td>\n",
       "      <td>10.000000</td>\n",
       "      <td>0.000000</td>\n",
       "    </tr>\n",
       "    <tr>\n",
       "      <th>25%</th>\n",
       "      <td>7.130105e+08</td>\n",
       "      <td>41.000000</td>\n",
       "      <td>1.000000</td>\n",
       "      <td>31.000000</td>\n",
       "      <td>3.000000</td>\n",
       "      <td>2.000000</td>\n",
       "      <td>2.000000</td>\n",
       "      <td>2498.000000</td>\n",
       "      <td>463.000000</td>\n",
       "      <td>1248.000000</td>\n",
       "      <td>2089.000000</td>\n",
       "      <td>44.000000</td>\n",
       "      <td>0.026000</td>\n",
       "    </tr>\n",
       "    <tr>\n",
       "      <th>50%</th>\n",
       "      <td>7.178438e+08</td>\n",
       "      <td>46.000000</td>\n",
       "      <td>2.000000</td>\n",
       "      <td>36.000000</td>\n",
       "      <td>4.000000</td>\n",
       "      <td>2.000000</td>\n",
       "      <td>2.000000</td>\n",
       "      <td>4287.000000</td>\n",
       "      <td>1282.000000</td>\n",
       "      <td>3250.000000</td>\n",
       "      <td>3831.000000</td>\n",
       "      <td>67.000000</td>\n",
       "      <td>0.186000</td>\n",
       "    </tr>\n",
       "    <tr>\n",
       "      <th>75%</th>\n",
       "      <td>7.732370e+08</td>\n",
       "      <td>52.000000</td>\n",
       "      <td>3.000000</td>\n",
       "      <td>40.000000</td>\n",
       "      <td>5.000000</td>\n",
       "      <td>3.000000</td>\n",
       "      <td>3.000000</td>\n",
       "      <td>10729.000000</td>\n",
       "      <td>1781.000000</td>\n",
       "      <td>9491.000000</td>\n",
       "      <td>4740.000000</td>\n",
       "      <td>80.000000</td>\n",
       "      <td>0.515000</td>\n",
       "    </tr>\n",
       "    <tr>\n",
       "      <th>max</th>\n",
       "      <td>8.282989e+08</td>\n",
       "      <td>73.000000</td>\n",
       "      <td>5.000000</td>\n",
       "      <td>56.000000</td>\n",
       "      <td>6.000000</td>\n",
       "      <td>6.000000</td>\n",
       "      <td>6.000000</td>\n",
       "      <td>34516.000000</td>\n",
       "      <td>2517.000000</td>\n",
       "      <td>34516.000000</td>\n",
       "      <td>17995.000000</td>\n",
       "      <td>134.000000</td>\n",
       "      <td>0.999000</td>\n",
       "    </tr>\n",
       "  </tbody>\n",
       "</table>\n",
       "</div>"
      ],
      "text/plain": [
       "          CLIENTNUM          Age  Dependent_count  Months_on_book  \\\n",
       "count  7.081000e+03  7081.000000      7081.000000     7081.000000   \n",
       "mean   7.390919e+08    46.347691         2.337805       35.981359   \n",
       "std    3.685244e+07     8.041225         1.291649        8.002609   \n",
       "min    7.080821e+08    26.000000         0.000000       13.000000   \n",
       "25%    7.130105e+08    41.000000         1.000000       31.000000   \n",
       "50%    7.178438e+08    46.000000         2.000000       36.000000   \n",
       "75%    7.732370e+08    52.000000         3.000000       40.000000   \n",
       "max    8.282989e+08    73.000000         5.000000       56.000000   \n",
       "\n",
       "       Relationship Count  Months Inactive  Contacts_Count_12_mon  \\\n",
       "count         7081.000000      7081.000000            7081.000000   \n",
       "mean             3.819376         2.342607               2.454456   \n",
       "std              1.544444         0.995104               1.104917   \n",
       "min              1.000000         0.000000               0.000000   \n",
       "25%              3.000000         2.000000               2.000000   \n",
       "50%              4.000000         2.000000               2.000000   \n",
       "75%              5.000000         3.000000               3.000000   \n",
       "max              6.000000         6.000000               6.000000   \n",
       "\n",
       "       Credit Limit  Total_Revolving_Bal  Avg_Open_To_Buy  Total_Trans_Amt  \\\n",
       "count   7081.000000          7081.000000      7081.000000      7081.000000   \n",
       "mean    8492.773831          1167.501624      7325.272207      4394.299816   \n",
       "std     9126.072520           812.315606      9131.217585      3468.461606   \n",
       "min     1438.300000             0.000000         3.000000       510.000000   \n",
       "25%     2498.000000           463.000000      1248.000000      2089.000000   \n",
       "50%     4287.000000          1282.000000      3250.000000      3831.000000   \n",
       "75%    10729.000000          1781.000000      9491.000000      4740.000000   \n",
       "max    34516.000000          2517.000000     34516.000000     17995.000000   \n",
       "\n",
       "       Total_Trans_Ct  Avg_Utilization_Ratio  \n",
       "count     7081.000000            7081.000000  \n",
       "mean        64.503319               0.282313  \n",
       "std         23.809330               0.278731  \n",
       "min         10.000000               0.000000  \n",
       "25%         44.000000               0.026000  \n",
       "50%         67.000000               0.186000  \n",
       "75%         80.000000               0.515000  \n",
       "max        134.000000               0.999000  "
      ]
     },
     "execution_count": 4,
     "metadata": {},
     "output_type": "execute_result"
    }
   ],
   "source": [
    "df.describe(include=[np.number])"
   ]
  },
  {
   "cell_type": "code",
   "execution_count": 14,
   "metadata": {},
   "outputs": [
    {
     "data": {
      "text/plain": [
       "Text(0.5, 1.0, 'Education Level of Customers')"
      ]
     },
     "execution_count": 14,
     "metadata": {},
     "output_type": "execute_result"
    },
    {
     "data": {
      "image/png": "[encoded data removed]",
      "text/plain": [
       "<Figure size 432x288 with 1 Axes>"
      ]
     },
     "metadata": {
      "needs_background": "light"
     },
     "output_type": "display_data"
    }
   ],
   "source": [
    "sns.countplot(y=\"Education\",order=df[\"Education\"].value_counts().index,data=df).set_title(\"Education Level of Customers\")"
   ]
  },
  {
   "cell_type": "code",
   "execution_count": null,
   "metadata": {},
   "outputs": [],
   "source": []
  },
  {
   "cell_type": "markdown",
   "metadata": {},
   "source": [
    "### Info about attrition"
   ]
  },
  {
   "cell_type": "code",
   "execution_count": 46,
   "metadata": {},
   "outputs": [
    {
     "data": {
      "text/plain": [
       "Text(0.5, 1.0, 'Attrition based on gender')"
      ]
     },
     "execution_count": 46,
     "metadata": {},
     "output_type": "execute_result"
    },
    {
     "data": {
      "image/png": "[encoded data removed]",
      "text/plain": [
       "<Figure size 360x360 with 1 Axes>"
      ]
     },
     "metadata": {},
     "output_type": "display_data"
    }
   ],
   "source": [
    "sns.set(rc={'figure.figsize':(5,5)}) #increase the size of the graph\n",
    "attrited_rows = df.loc[df['Attrition_Flag'] == \"Attrited Customer\"]\n",
    "sns.countplot(y='Gender', data=attrited_rows, palette='tab10').set_title('Attrition based on gender')\n"
   ]
  },
  {
   "cell_type": "markdown",
   "metadata": {},
   "source": [
    "Female customers, attrite more than males, however the difference is not that big."
   ]
  },
  {
   "cell_type": "code",
   "execution_count": 90,
   "metadata": {},
   "outputs": [
    {
     "name": "stdout",
     "output_type": "stream",
     "text": [
      "Blue\n",
      "Gold\n",
      "Silver\n",
      "Platinum\n"
     ]
    },
    {
     "data": {
      "image/png": "[encoded data removed]",
      "text/plain": [
       "<Figure size 442.725x360 with 1 Axes>"
      ]
     },
     "metadata": {},
     "output_type": "display_data"
    }
   ],
   "source": [
    "sns.set(rc={'figure.figsize':(10,8)}) #increase the size of the graph\n",
    "for cardType in df[\"Card Type\"].unique():\n",
    "    print((len(attrited_rows[attrited_rows[\"Card Type\"]==cardType])*100)/len(attrited_rows[attrited_rows[\"Card Type\"]==cardType]))\n",
    "\n",
    "catp = sns.catplot(data=attrited_rows, kind='count', \n",
    "                   x='Attrition_Flag', hue='Card Type',hue_order=df[\"Card Type\"].value_counts().index).set(yscale=\"log\")"
   ]
  },
  {
   "cell_type": "code",
   "execution_count": 85,
   "metadata": {},
   "outputs": [
    {
     "name": "stdout",
     "output_type": "stream",
     "text": [
      "27.272727272727273\n",
      "15.671415580478932\n",
      "16.049382716049383\n",
      "16.11253196930946\n"
     ]
    }
   ],
   "source": [
    "# df2 = df[df[\"Card Type\"]==\"Platinum\"]\n",
    "# print((len(df2[df2[\"Attrition_Flag\"]==\"Attrited Customer\"])*100)/len(df2))\n",
    "# df2 = df[df[\"Card Type\"]==\"Blue\"]\n",
    "# print((len(df2[df2[\"Attrition_Flag\"]==\"Attrited Customer\"])*100)/len(df2))\n",
    "# df2 = df[df[\"Card Type\"]==\"Gold\"]\n",
    "# print((len(df2[df2[\"Attrition_Flag\"]==\"Attrited Customer\"])*100)/len(df2))\n",
    "# df2 = df[df[\"Card Type\"]==\"Silver\"]\n",
    "# print((len(df2[df2[\"Attrition_Flag\"]==\"Attrited Customer\"])*100)/len(df2))\n"
   ]
  },
  {
   "cell_type": "code",
   "execution_count": null,
   "metadata": {},
   "outputs": [],
   "source": []
  }
 ],
 "metadata": {
  "kernelspec": {
   "display_name": "Python 3",
   "language": "python",
   "name": "python3"
  },
  "language_info": {
   "codemirror_mode": {
    "name": "ipython",
    "version": 3
   },
   "file_extension": ".py",
   "mimetype": "text/x-python",
   "name": "python",
   "nbconvert_exporter": "python",
   "pygments_lexer": "ipython3",
   "version": "3.7.6"
  }
 },
 "nbformat": 4,
 "nbformat_minor": 4
}
