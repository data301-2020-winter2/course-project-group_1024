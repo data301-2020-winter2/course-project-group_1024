{
 "cells": [
  {
   "cell_type": "code",
   "execution_count": 9,
   "id": "super-method",
   "metadata": {},
   "outputs": [
    {
     "data": {
      "text/html": [
       "<div>\n",
       "<style scoped>\n",
       "    .dataframe tbody tr th:only-of-type {\n",
       "        vertical-align: middle;\n",
       "    }\n",
       "\n",
       "    .dataframe tbody tr th {\n",
       "        vertical-align: top;\n",
       "    }\n",
       "\n",
       "    .dataframe thead th {\n",
       "        text-align: right;\n",
       "    }\n",
       "</style>\n",
       "<table border=\"1\" class=\"dataframe\">\n",
       "  <thead>\n",
       "    <tr style=\"text-align: right;\">\n",
       "      <th></th>\n",
       "      <th>CLIENTNUM</th>\n",
       "      <th>Attrition_Flag</th>\n",
       "      <th>Age</th>\n",
       "      <th>Gender</th>\n",
       "      <th>Dependent_count</th>\n",
       "      <th>Education</th>\n",
       "      <th>Marital_Status</th>\n",
       "      <th>Income</th>\n",
       "      <th>Card Type</th>\n",
       "      <th>Months_on_book</th>\n",
       "      <th>Relationship Count</th>\n",
       "      <th>Months Inactive</th>\n",
       "      <th>Contacts_Count_12_mon</th>\n",
       "      <th>Credit Limit</th>\n",
       "      <th>Total_Revolving_Bal</th>\n",
       "      <th>Avg_Open_To_Buy</th>\n",
       "      <th>Total_Trans_Amt</th>\n",
       "      <th>Total_Trans_Ct</th>\n",
       "      <th>Avg_Utilization_Ratio</th>\n",
       "      <th>Utilization_Rate</th>\n",
       "    </tr>\n",
       "  </thead>\n",
       "  <tbody>\n",
       "    <tr>\n",
       "      <th>0</th>\n",
       "      <td>768805383</td>\n",
       "      <td>Existing Customer</td>\n",
       "      <td>45</td>\n",
       "      <td>M</td>\n",
       "      <td>3</td>\n",
       "      <td>High School</td>\n",
       "      <td>Married</td>\n",
       "      <td>$60K - $80K</td>\n",
       "      <td>Blue</td>\n",
       "      <td>39</td>\n",
       "      <td>5</td>\n",
       "      <td>1</td>\n",
       "      <td>3</td>\n",
       "      <td>12691.0</td>\n",
       "      <td>777</td>\n",
       "      <td>11914.0</td>\n",
       "      <td>1144</td>\n",
       "      <td>42</td>\n",
       "      <td>0.061</td>\n",
       "      <td>6.1</td>\n",
       "    </tr>\n",
       "    <tr>\n",
       "      <th>1</th>\n",
       "      <td>818770008</td>\n",
       "      <td>Existing Customer</td>\n",
       "      <td>49</td>\n",
       "      <td>F</td>\n",
       "      <td>5</td>\n",
       "      <td>Graduate</td>\n",
       "      <td>Single</td>\n",
       "      <td>Less than $40K</td>\n",
       "      <td>Blue</td>\n",
       "      <td>44</td>\n",
       "      <td>6</td>\n",
       "      <td>1</td>\n",
       "      <td>2</td>\n",
       "      <td>8256.0</td>\n",
       "      <td>864</td>\n",
       "      <td>7392.0</td>\n",
       "      <td>1291</td>\n",
       "      <td>33</td>\n",
       "      <td>0.105</td>\n",
       "      <td>10.5</td>\n",
       "    </tr>\n",
       "    <tr>\n",
       "      <th>2</th>\n",
       "      <td>713982108</td>\n",
       "      <td>Existing Customer</td>\n",
       "      <td>51</td>\n",
       "      <td>M</td>\n",
       "      <td>3</td>\n",
       "      <td>Graduate</td>\n",
       "      <td>Married</td>\n",
       "      <td>$80K - $120K</td>\n",
       "      <td>Blue</td>\n",
       "      <td>36</td>\n",
       "      <td>4</td>\n",
       "      <td>1</td>\n",
       "      <td>0</td>\n",
       "      <td>3418.0</td>\n",
       "      <td>0</td>\n",
       "      <td>3418.0</td>\n",
       "      <td>1887</td>\n",
       "      <td>20</td>\n",
       "      <td>0.000</td>\n",
       "      <td>0.0</td>\n",
       "    </tr>\n",
       "    <tr>\n",
       "      <th>3</th>\n",
       "      <td>709106358</td>\n",
       "      <td>Existing Customer</td>\n",
       "      <td>40</td>\n",
       "      <td>M</td>\n",
       "      <td>3</td>\n",
       "      <td>Uneducated</td>\n",
       "      <td>Married</td>\n",
       "      <td>$60K - $80K</td>\n",
       "      <td>Blue</td>\n",
       "      <td>21</td>\n",
       "      <td>5</td>\n",
       "      <td>1</td>\n",
       "      <td>0</td>\n",
       "      <td>4716.0</td>\n",
       "      <td>0</td>\n",
       "      <td>4716.0</td>\n",
       "      <td>816</td>\n",
       "      <td>28</td>\n",
       "      <td>0.000</td>\n",
       "      <td>0.0</td>\n",
       "    </tr>\n",
       "    <tr>\n",
       "      <th>4</th>\n",
       "      <td>713061558</td>\n",
       "      <td>Existing Customer</td>\n",
       "      <td>44</td>\n",
       "      <td>M</td>\n",
       "      <td>2</td>\n",
       "      <td>Graduate</td>\n",
       "      <td>Married</td>\n",
       "      <td>$40K - $60K</td>\n",
       "      <td>Blue</td>\n",
       "      <td>36</td>\n",
       "      <td>3</td>\n",
       "      <td>1</td>\n",
       "      <td>2</td>\n",
       "      <td>4010.0</td>\n",
       "      <td>1247</td>\n",
       "      <td>2763.0</td>\n",
       "      <td>1088</td>\n",
       "      <td>24</td>\n",
       "      <td>0.311</td>\n",
       "      <td>31.1</td>\n",
       "    </tr>\n",
       "  </tbody>\n",
       "</table>\n",
       "</div>"
      ],
      "text/plain": [
       "   CLIENTNUM     Attrition_Flag  Age Gender  Dependent_count    Education  \\\n",
       "0  768805383  Existing Customer   45      M                3  High School   \n",
       "1  818770008  Existing Customer   49      F                5     Graduate   \n",
       "2  713982108  Existing Customer   51      M                3     Graduate   \n",
       "3  709106358  Existing Customer   40      M                3   Uneducated   \n",
       "4  713061558  Existing Customer   44      M                2     Graduate   \n",
       "\n",
       "  Marital_Status          Income Card Type  Months_on_book  \\\n",
       "0        Married     $60K - $80K      Blue              39   \n",
       "1         Single  Less than $40K      Blue              44   \n",
       "2        Married    $80K - $120K      Blue              36   \n",
       "3        Married     $60K - $80K      Blue              21   \n",
       "4        Married     $40K - $60K      Blue              36   \n",
       "\n",
       "   Relationship Count  Months Inactive  Contacts_Count_12_mon  Credit Limit  \\\n",
       "0                   5                1                      3       12691.0   \n",
       "1                   6                1                      2        8256.0   \n",
       "2                   4                1                      0        3418.0   \n",
       "3                   5                1                      0        4716.0   \n",
       "4                   3                1                      2        4010.0   \n",
       "\n",
       "   Total_Revolving_Bal  Avg_Open_To_Buy  Total_Trans_Amt  Total_Trans_Ct  \\\n",
       "0                  777          11914.0             1144              42   \n",
       "1                  864           7392.0             1291              33   \n",
       "2                    0           3418.0             1887              20   \n",
       "3                    0           4716.0              816              28   \n",
       "4                 1247           2763.0             1088              24   \n",
       "\n",
       "   Avg_Utilization_Ratio  Utilization_Rate  \n",
       "0                  0.061               6.1  \n",
       "1                  0.105              10.5  \n",
       "2                  0.000               0.0  \n",
       "3                  0.000               0.0  \n",
       "4                  0.311              31.1  "
      ]
     },
     "execution_count": 9,
     "metadata": {},
     "output_type": "execute_result"
    }
   ],
   "source": [
    "from scripts import project_functions # This is called a relative import\n",
    "df = project_functions.load_and_process(\"../../data/raw/BankCustomers.csv\")\n",
    "df.head()"
   ]
  },
  {
   "cell_type": "markdown",
   "id": "textile-sheffield",
   "metadata": {},
   "source": [
    "---\n",
    "### RQ1: What percentage of customers have Utilization Rate less than 30%? "
   ]
  },
  {
   "cell_type": "markdown",
   "id": "selected-circle",
   "metadata": {},
   "source": [
    "Your credit Utilization Rate is very important as it tells us how much debt you currently have on your credit card. It is said that maintaining a Utilization Rate of 30% or below is a healthy credit score. Below is a visualization which shows the percentage of customers who have a Utilization Rate less than 30%. "
   ]
  },
  {
   "cell_type": "code",
   "execution_count": 10,
   "id": "prerequisite-feeding",
   "metadata": {},
   "outputs": [
    {
     "data": {
      "image/png": "[encoded data removed]",
      "text/plain": [
       "<Figure size 720x360 with 1 Axes>"
      ]
     },
     "metadata": {},
     "output_type": "display_data"
    },
    {
     "name": "stdout",
     "output_type": "stream",
     "text": [
      "57% of the Existing Customers have a Utilization Rate less than 30%\n",
      "78% of the Attrited Customers have a Utilization Rate less than 30%\n"
     ]
    }
   ],
   "source": [
    "project_functions.sns.set_theme(font_scale=1.3)\n",
    "project_functions.sns.set_style(\"ticks\")\n",
    "lists=[]\n",
    "df1 = df[df['Utilization_Rate']<=30]\n",
    "a_flag = df1['Attrition_Flag'].unique()\n",
    "\n",
    "for customers in a_flag:\n",
    "    lists.append((len(df1[df1['Attrition_Flag']==customers])*100)/len(df[df['Attrition_Flag']==customers]))\n",
    "\n",
    "project_functions.sns.barplot(x=a_flag, y=lists, data=df1, palette='crest').set_title('  Percentage of customers having Utilization rate less than 30%')\n",
    "project_functions.plt.ylabel('Percentage of Customers')\n",
    "project_functions.plt.show()\n",
    "print('{}% of the Existing Customers have a Utilization Rate less than 30%'.format(round(lists[0])))\n",
    "print('{}% of the Attrited Customers have a Utilization Rate less than 30%'.format(round(lists[1])))"
   ]
  },
  {
   "cell_type": "markdown",
   "id": "earlier-puzzle",
   "metadata": {},
   "source": [
    "- As we can see from the visualization above, a good amount of customers maintain a healthy credit score.\n",
    "- More than half of Existing and Attrited customers have a Utilization rate less than 30%.\n",
    "- But in comparison to the Existing Customer, more Attrited Customers have a good credit score.\n",
    "---"
   ]
  },
  {
   "cell_type": "markdown",
   "id": "faced-amber",
   "metadata": {},
   "source": [
    "### RQ2: How is the customers education level, card type and income related to the attrition?"
   ]
  },
  {
   "cell_type": "markdown",
   "id": "general-premium",
   "metadata": {},
   "source": [
    "The bank was worried about too many customers leaving the system, and it's important to see if we can find the correlation between some columns and the attrition of the customers. Education Level, card type and income were chosen, since we assume they might be the deciding factors in the customer leaving or staying in the bank."
   ]
  },
  {
   "cell_type": "code",
   "execution_count": 12,
   "id": "alive-bernard",
   "metadata": {},
   "outputs": [
    {
     "data": {
      "image/png": "[encoded data removed]",
      "text/plain": [
       "<Figure size 720x576 with 1 Axes>"
      ]
     },
     "metadata": {},
     "output_type": "display_data"
    }
   ],
   "source": [
    "attrited_rows = df.loc[df['Attrition_Flag'] == \"Attrited Customer\"]\n",
    "project_functions.sns.set(rc={'figure.figsize':(10,8)}) #increase the size of the graph\n",
    "percentages = []\n",
    "# get the percentage of attrited  from the total number\n",
    "for cardType in df[\"Card Type\"].unique():\n",
    "    percentages.append((len(attrited_rows[attrited_rows[\"Card Type\"]==cardType])*100)/len(df[df[\"Card Type\"]==cardType]))\n",
    "cards = df[\"Card Type\"].unique()\n",
    "catp = project_functions.sns.barplot(data=attrited_rows, y = percentages,\n",
    "                   x=cards)"
   ]
  },
  {
   "cell_type": "markdown",
   "id": "toxic-health",
   "metadata": {},
   "source": [
    "The graph above, is probably one of the most important ones, it shows what percentage of the total are the attrited customers, based on the card type. It's hard to explain, but for example if 100 custoemrs have platinium card, and 26 of them attrited, then 26% attrited. If we simply drew the graph by the *number* of attritions, we wouldn't see that proportionally, platinium users attrite more. However, since it's only 26%, we can't yet be sure that the Platinium card leads to attrition. So let's continue exploring."
   ]
  },
  {
   "cell_type": "code",
   "execution_count": 13,
   "id": "hispanic-romantic",
   "metadata": {},
   "outputs": [
    {
     "data": {
      "image/png": "[encoded data removed]",
      "text/plain": [
       "<Figure size 720x576 with 1 Axes>"
      ]
     },
     "metadata": {},
     "output_type": "display_data"
    }
   ],
   "source": [
    "percentages = []\n",
    "# get the percentage of attrited  from the total number\n",
    "for education in df[\"Education\"].unique():\n",
    "    percentages.append((len(attrited_rows[attrited_rows[\"Education\"]==education])*100)/len(df[df[\"Education\"]==education]))\n",
    "cards = df[\"Education\"].unique()\n",
    "catp = project_functions.sns.barplot(data=attrited_rows, y = percentages,\n",
    "                   x=cards)"
   ]
  },
  {
   "cell_type": "markdown",
   "id": "animal-jungle",
   "metadata": {},
   "source": [
    "With a similar code, we get our results for the education level. We see clearly that, customers with PhD have a noticably higher chance of leaving the bank. Since higher education level and platinium cards have a higher chance of attrition, we can already predict that people with higher income will leave the bank, but let's check."
   ]
  },
  {
   "cell_type": "code",
   "execution_count": 14,
   "id": "aggressive-tradition",
   "metadata": {},
   "outputs": [
    {
     "data": {
      "image/png": "[encoded data removed]",
      "text/plain": [
       "<Figure size 720x360 with 1 Axes>"
      ]
     },
     "metadata": {},
     "output_type": "display_data"
    }
   ],
   "source": [
    "project_functions.sns.set(rc={'figure.figsize':(10,5)})\n",
    "percentages = []\n",
    "# get the percentage of attrited  from the total number\n",
    "for income in df[\"Income\"].unique():\n",
    "    percentages.append((len(attrited_rows[attrited_rows[\"Income\"]==income])*100)/len(df[df[\"Income\"]==income]))\n",
    "cards = df[\"Income\"].unique()\n",
    "catp = project_functions.sns.barplot(data=attrited_rows, y = percentages,\n",
    "                   x=cards)"
   ]
  },
  {
   "cell_type": "markdown",
   "id": "trying-exhaust",
   "metadata": {},
   "source": [
    "From the graph above we see that, while our assumption is indeed right, the highest income have the highest chance of leaving the bank, it's not as straightforward as we expected it to be. The second highest attrition rate, around 16%, comes from the lowest income, less than $40k a year. "
   ]
  },
  {
   "cell_type": "markdown",
   "id": "photographic-victor",
   "metadata": {},
   "source": [
    "In conclusion, while there is a noticably correlation between the card type, education level and income and the attrition. Nevertheless, the correlation is way too weak to make any definite predictions. Perhaps more columns need to be analyzed to reach a stronger conclusion."
   ]
  },
  {
   "cell_type": "markdown",
   "id": "unable-liberty",
   "metadata": {},
   "source": [
    "---"
   ]
  }
 ],
 "metadata": {
  "kernelspec": {
   "display_name": "Python 3",
   "language": "python",
   "name": "python3"
  },
  "language_info": {
   "codemirror_mode": {
    "name": "ipython",
    "version": 3
   },
   "file_extension": ".py",
   "mimetype": "text/x-python",
   "name": "python",
   "nbconvert_exporter": "python",
   "pygments_lexer": "ipython3",
   "version": "3.8.5"
  }
 },
 "nbformat": 4,
 "nbformat_minor": 5
}
