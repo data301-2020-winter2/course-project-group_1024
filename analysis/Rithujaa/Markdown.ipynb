{
 "cells": [
  {
   "cell_type": "markdown",
   "id": "intellectual-stable",
   "metadata": {},
   "source": [
    "**Using the Bold text element here**\n"
   ]
  },
  {
   "cell_type": "markdown",
   "id": "announced-passenger",
   "metadata": {},
   "source": [
    "*Using the italic text element here*"
   ]
  },
  {
   "cell_type": "markdown",
   "id": "drawn-diploma",
   "metadata": {},
   "source": [
    "> Using the Quoted text element here"
   ]
  },
  {
   "cell_type": "markdown",
   "id": "wanted-reunion",
   "metadata": {},
   "source": [
    "---\n",
    "Above contains the usage of the Horizontal Line element"
   ]
  },
  {
   "cell_type": "markdown",
   "id": "reflected-sunglasses",
   "metadata": {},
   "source": [
    "$\\lambda$\n",
    "$\\pi$\n",
    "$\\alpha$\n",
    "   -usage of Math symbols element"
   ]
  }
 ],
 "metadata": {
  "kernelspec": {
   "display_name": "Python 3",
   "language": "python",
   "name": "python3"
  },
  "language_info": {
   "codemirror_mode": {
    "name": "ipython",
    "version": 3
   },
   "file_extension": ".py",
   "mimetype": "text/x-python",
   "name": "python",
   "nbconvert_exporter": "python",
   "pygments_lexer": "ipython3",
   "version": "3.8.5"
  }
 },
 "nbformat": 4,
 "nbformat_minor": 5
}
