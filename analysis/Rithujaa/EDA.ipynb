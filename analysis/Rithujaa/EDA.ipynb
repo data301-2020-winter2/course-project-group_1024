{
 "cells": [
  {
   "cell_type": "code",
   "execution_count": 10,
   "id": "welcome-participant",
   "metadata": {},
   "outputs": [],
   "source": [
    "from Scripts_rithujaa import project_functions # This is called a relative import\n",
    "df = project_functions.load_and_process(\"../../data/raw/BankCustomers.csv\")"
   ]
  },
  {
   "cell_type": "markdown",
   "id": "christian-beast",
   "metadata": {},
   "source": [
    "## **Simple preview and statistics of the data.**"
   ]
  },
  {
   "cell_type": "code",
   "execution_count": 92,
   "id": "educated-quest",
   "metadata": {},
   "outputs": [
    {
     "data": {
      "text/html": [
       "<div>\n",
       "<style scoped>\n",
       "    .dataframe tbody tr th:only-of-type {\n",
       "        vertical-align: middle;\n",
       "    }\n",
       "\n",
       "    .dataframe tbody tr th {\n",
       "        vertical-align: top;\n",
       "    }\n",
       "\n",
       "    .dataframe thead th {\n",
       "        text-align: right;\n",
       "    }\n",
       "</style>\n",
       "<table border=\"1\" class=\"dataframe\">\n",
       "  <thead>\n",
       "    <tr style=\"text-align: right;\">\n",
       "      <th></th>\n",
       "      <th>CLIENTNUM</th>\n",
       "      <th>Attrition_Flag</th>\n",
       "      <th>Age</th>\n",
       "      <th>Gender</th>\n",
       "      <th>Dependent_count</th>\n",
       "      <th>Education</th>\n",
       "      <th>Marital_Status</th>\n",
       "      <th>Income</th>\n",
       "      <th>Card Type</th>\n",
       "      <th>Months_on_book</th>\n",
       "      <th>Relationship Count</th>\n",
       "      <th>Months Inactive</th>\n",
       "      <th>Contacts_Count_12_mon</th>\n",
       "      <th>Credit Limit</th>\n",
       "      <th>Total_Revolving_Bal</th>\n",
       "      <th>Avg_Open_To_Buy</th>\n",
       "      <th>Total_Trans_Amt</th>\n",
       "      <th>Total_Trans_Ct</th>\n",
       "      <th>Avg_Utilization_Ratio</th>\n",
       "    </tr>\n",
       "  </thead>\n",
       "  <tbody>\n",
       "    <tr>\n",
       "      <th>0</th>\n",
       "      <td>768805383</td>\n",
       "      <td>Existing Customer</td>\n",
       "      <td>45</td>\n",
       "      <td>M</td>\n",
       "      <td>3</td>\n",
       "      <td>High School</td>\n",
       "      <td>Married</td>\n",
       "      <td>$60K - $80K</td>\n",
       "      <td>Blue</td>\n",
       "      <td>39</td>\n",
       "      <td>5</td>\n",
       "      <td>1</td>\n",
       "      <td>3</td>\n",
       "      <td>12691.0</td>\n",
       "      <td>777</td>\n",
       "      <td>11914.0</td>\n",
       "      <td>1144</td>\n",
       "      <td>42</td>\n",
       "      <td>0.061</td>\n",
       "    </tr>\n",
       "    <tr>\n",
       "      <th>1</th>\n",
       "      <td>818770008</td>\n",
       "      <td>Existing Customer</td>\n",
       "      <td>49</td>\n",
       "      <td>F</td>\n",
       "      <td>5</td>\n",
       "      <td>Graduate</td>\n",
       "      <td>Single</td>\n",
       "      <td>Less than $40K</td>\n",
       "      <td>Blue</td>\n",
       "      <td>44</td>\n",
       "      <td>6</td>\n",
       "      <td>1</td>\n",
       "      <td>2</td>\n",
       "      <td>8256.0</td>\n",
       "      <td>864</td>\n",
       "      <td>7392.0</td>\n",
       "      <td>1291</td>\n",
       "      <td>33</td>\n",
       "      <td>0.105</td>\n",
       "    </tr>\n",
       "    <tr>\n",
       "      <th>2</th>\n",
       "      <td>713982108</td>\n",
       "      <td>Existing Customer</td>\n",
       "      <td>51</td>\n",
       "      <td>M</td>\n",
       "      <td>3</td>\n",
       "      <td>Graduate</td>\n",
       "      <td>Married</td>\n",
       "      <td>$80K - $120K</td>\n",
       "      <td>Blue</td>\n",
       "      <td>36</td>\n",
       "      <td>4</td>\n",
       "      <td>1</td>\n",
       "      <td>0</td>\n",
       "      <td>3418.0</td>\n",
       "      <td>0</td>\n",
       "      <td>3418.0</td>\n",
       "      <td>1887</td>\n",
       "      <td>20</td>\n",
       "      <td>0.000</td>\n",
       "    </tr>\n",
       "    <tr>\n",
       "      <th>3</th>\n",
       "      <td>709106358</td>\n",
       "      <td>Existing Customer</td>\n",
       "      <td>40</td>\n",
       "      <td>M</td>\n",
       "      <td>3</td>\n",
       "      <td>Uneducated</td>\n",
       "      <td>Married</td>\n",
       "      <td>$60K - $80K</td>\n",
       "      <td>Blue</td>\n",
       "      <td>21</td>\n",
       "      <td>5</td>\n",
       "      <td>1</td>\n",
       "      <td>0</td>\n",
       "      <td>4716.0</td>\n",
       "      <td>0</td>\n",
       "      <td>4716.0</td>\n",
       "      <td>816</td>\n",
       "      <td>28</td>\n",
       "      <td>0.000</td>\n",
       "    </tr>\n",
       "    <tr>\n",
       "      <th>4</th>\n",
       "      <td>713061558</td>\n",
       "      <td>Existing Customer</td>\n",
       "      <td>44</td>\n",
       "      <td>M</td>\n",
       "      <td>2</td>\n",
       "      <td>Graduate</td>\n",
       "      <td>Married</td>\n",
       "      <td>$40K - $60K</td>\n",
       "      <td>Blue</td>\n",
       "      <td>36</td>\n",
       "      <td>3</td>\n",
       "      <td>1</td>\n",
       "      <td>2</td>\n",
       "      <td>4010.0</td>\n",
       "      <td>1247</td>\n",
       "      <td>2763.0</td>\n",
       "      <td>1088</td>\n",
       "      <td>24</td>\n",
       "      <td>0.311</td>\n",
       "    </tr>\n",
       "  </tbody>\n",
       "</table>\n",
       "</div>"
      ],
      "text/plain": [
       "   CLIENTNUM     Attrition_Flag  Age Gender  Dependent_count    Education  \\\n",
       "0  768805383  Existing Customer   45      M                3  High School   \n",
       "1  818770008  Existing Customer   49      F                5     Graduate   \n",
       "2  713982108  Existing Customer   51      M                3     Graduate   \n",
       "3  709106358  Existing Customer   40      M                3   Uneducated   \n",
       "4  713061558  Existing Customer   44      M                2     Graduate   \n",
       "\n",
       "  Marital_Status          Income Card Type  Months_on_book  \\\n",
       "0        Married     $60K - $80K      Blue              39   \n",
       "1         Single  Less than $40K      Blue              44   \n",
       "2        Married    $80K - $120K      Blue              36   \n",
       "3        Married     $60K - $80K      Blue              21   \n",
       "4        Married     $40K - $60K      Blue              36   \n",
       "\n",
       "   Relationship Count  Months Inactive  Contacts_Count_12_mon  Credit Limit  \\\n",
       "0                   5                1                      3       12691.0   \n",
       "1                   6                1                      2        8256.0   \n",
       "2                   4                1                      0        3418.0   \n",
       "3                   5                1                      0        4716.0   \n",
       "4                   3                1                      2        4010.0   \n",
       "\n",
       "   Total_Revolving_Bal  Avg_Open_To_Buy  Total_Trans_Amt  Total_Trans_Ct  \\\n",
       "0                  777          11914.0             1144              42   \n",
       "1                  864           7392.0             1291              33   \n",
       "2                    0           3418.0             1887              20   \n",
       "3                    0           4716.0              816              28   \n",
       "4                 1247           2763.0             1088              24   \n",
       "\n",
       "   Avg_Utilization_Ratio  \n",
       "0                  0.061  \n",
       "1                  0.105  \n",
       "2                  0.000  \n",
       "3                  0.000  \n",
       "4                  0.311  "
      ]
     },
     "execution_count": 92,
     "metadata": {},
     "output_type": "execute_result"
    }
   ],
   "source": [
    "df.head()"
   ]
  },
  {
   "cell_type": "code",
   "execution_count": 11,
   "id": "radio-jewelry",
   "metadata": {},
   "outputs": [
    {
     "name": "stdout",
     "output_type": "stream",
     "text": [
      "<class 'pandas.core.frame.DataFrame'>\n",
      "RangeIndex: 7081 entries, 0 to 7080\n",
      "Data columns (total 19 columns):\n",
      " #   Column                 Non-Null Count  Dtype  \n",
      "---  ------                 --------------  -----  \n",
      " 0   CLIENTNUM              7081 non-null   int64  \n",
      " 1   Attrition_Flag         7081 non-null   object \n",
      " 2   Age                    7081 non-null   int64  \n",
      " 3   Gender                 7081 non-null   object \n",
      " 4   Dependent_count        7081 non-null   int64  \n",
      " 5   Education              7081 non-null   object \n",
      " 6   Marital_Status         7081 non-null   object \n",
      " 7   Income                 7081 non-null   object \n",
      " 8   Card Type              7081 non-null   object \n",
      " 9   Months_on_book         7081 non-null   int64  \n",
      " 10  Relationship Count     7081 non-null   int64  \n",
      " 11  Months Inactive        7081 non-null   int64  \n",
      " 12  Contacts_Count_12_mon  7081 non-null   int64  \n",
      " 13  Credit Limit           7081 non-null   float64\n",
      " 14  Total_Revolving_Bal    7081 non-null   int64  \n",
      " 15  Avg_Open_To_Buy        7081 non-null   float64\n",
      " 16  Total_Trans_Amt        7081 non-null   int64  \n",
      " 17  Total_Trans_Ct         7081 non-null   int64  \n",
      " 18  Avg_Utilization_Ratio  7081 non-null   float64\n",
      "dtypes: float64(3), int64(10), object(6)\n",
      "memory usage: 1.0+ MB\n"
     ]
    }
   ],
   "source": [
    "df.info()"
   ]
  },
  {
   "cell_type": "markdown",
   "id": "separate-cover",
   "metadata": {},
   "source": [
    "---\n",
    "**Numerical data EDA**"
   ]
  },
  {
   "cell_type": "code",
   "execution_count": 12,
   "id": "satellite-increase",
   "metadata": {},
   "outputs": [
    {
     "data": {
      "text/html": [
       "<div>\n",
       "<style scoped>\n",
       "    .dataframe tbody tr th:only-of-type {\n",
       "        vertical-align: middle;\n",
       "    }\n",
       "\n",
       "    .dataframe tbody tr th {\n",
       "        vertical-align: top;\n",
       "    }\n",
       "\n",
       "    .dataframe thead th {\n",
       "        text-align: right;\n",
       "    }\n",
       "</style>\n",
       "<table border=\"1\" class=\"dataframe\">\n",
       "  <thead>\n",
       "    <tr style=\"text-align: right;\">\n",
       "      <th></th>\n",
       "      <th>count</th>\n",
       "      <th>mean</th>\n",
       "      <th>std</th>\n",
       "      <th>min</th>\n",
       "      <th>25%</th>\n",
       "      <th>50%</th>\n",
       "      <th>75%</th>\n",
       "      <th>max</th>\n",
       "    </tr>\n",
       "  </thead>\n",
       "  <tbody>\n",
       "    <tr>\n",
       "      <th>CLIENTNUM</th>\n",
       "      <td>7081.0</td>\n",
       "      <td>7.390919e+08</td>\n",
       "      <td>3.685244e+07</td>\n",
       "      <td>708082083.0</td>\n",
       "      <td>7.130105e+08</td>\n",
       "      <td>7.178438e+08</td>\n",
       "      <td>7.732370e+08</td>\n",
       "      <td>8.282989e+08</td>\n",
       "    </tr>\n",
       "    <tr>\n",
       "      <th>Age</th>\n",
       "      <td>7081.0</td>\n",
       "      <td>4.634769e+01</td>\n",
       "      <td>8.041225e+00</td>\n",
       "      <td>26.0</td>\n",
       "      <td>4.100000e+01</td>\n",
       "      <td>4.600000e+01</td>\n",
       "      <td>5.200000e+01</td>\n",
       "      <td>7.300000e+01</td>\n",
       "    </tr>\n",
       "    <tr>\n",
       "      <th>Dependent_count</th>\n",
       "      <td>7081.0</td>\n",
       "      <td>2.337805e+00</td>\n",
       "      <td>1.291649e+00</td>\n",
       "      <td>0.0</td>\n",
       "      <td>1.000000e+00</td>\n",
       "      <td>2.000000e+00</td>\n",
       "      <td>3.000000e+00</td>\n",
       "      <td>5.000000e+00</td>\n",
       "    </tr>\n",
       "    <tr>\n",
       "      <th>Months_on_book</th>\n",
       "      <td>7081.0</td>\n",
       "      <td>3.598136e+01</td>\n",
       "      <td>8.002609e+00</td>\n",
       "      <td>13.0</td>\n",
       "      <td>3.100000e+01</td>\n",
       "      <td>3.600000e+01</td>\n",
       "      <td>4.000000e+01</td>\n",
       "      <td>5.600000e+01</td>\n",
       "    </tr>\n",
       "    <tr>\n",
       "      <th>Relationship Count</th>\n",
       "      <td>7081.0</td>\n",
       "      <td>3.819376e+00</td>\n",
       "      <td>1.544444e+00</td>\n",
       "      <td>1.0</td>\n",
       "      <td>3.000000e+00</td>\n",
       "      <td>4.000000e+00</td>\n",
       "      <td>5.000000e+00</td>\n",
       "      <td>6.000000e+00</td>\n",
       "    </tr>\n",
       "    <tr>\n",
       "      <th>Months Inactive</th>\n",
       "      <td>7081.0</td>\n",
       "      <td>2.342607e+00</td>\n",
       "      <td>9.951035e-01</td>\n",
       "      <td>0.0</td>\n",
       "      <td>2.000000e+00</td>\n",
       "      <td>2.000000e+00</td>\n",
       "      <td>3.000000e+00</td>\n",
       "      <td>6.000000e+00</td>\n",
       "    </tr>\n",
       "    <tr>\n",
       "      <th>Contacts_Count_12_mon</th>\n",
       "      <td>7081.0</td>\n",
       "      <td>2.454456e+00</td>\n",
       "      <td>1.104917e+00</td>\n",
       "      <td>0.0</td>\n",
       "      <td>2.000000e+00</td>\n",
       "      <td>2.000000e+00</td>\n",
       "      <td>3.000000e+00</td>\n",
       "      <td>6.000000e+00</td>\n",
       "    </tr>\n",
       "    <tr>\n",
       "      <th>Credit Limit</th>\n",
       "      <td>7081.0</td>\n",
       "      <td>8.492774e+03</td>\n",
       "      <td>9.126073e+03</td>\n",
       "      <td>1438.3</td>\n",
       "      <td>2.498000e+03</td>\n",
       "      <td>4.287000e+03</td>\n",
       "      <td>1.072900e+04</td>\n",
       "      <td>3.451600e+04</td>\n",
       "    </tr>\n",
       "    <tr>\n",
       "      <th>Total_Revolving_Bal</th>\n",
       "      <td>7081.0</td>\n",
       "      <td>1.167502e+03</td>\n",
       "      <td>8.123156e+02</td>\n",
       "      <td>0.0</td>\n",
       "      <td>4.630000e+02</td>\n",
       "      <td>1.282000e+03</td>\n",
       "      <td>1.781000e+03</td>\n",
       "      <td>2.517000e+03</td>\n",
       "    </tr>\n",
       "    <tr>\n",
       "      <th>Avg_Open_To_Buy</th>\n",
       "      <td>7081.0</td>\n",
       "      <td>7.325272e+03</td>\n",
       "      <td>9.131218e+03</td>\n",
       "      <td>3.0</td>\n",
       "      <td>1.248000e+03</td>\n",
       "      <td>3.250000e+03</td>\n",
       "      <td>9.491000e+03</td>\n",
       "      <td>3.451600e+04</td>\n",
       "    </tr>\n",
       "    <tr>\n",
       "      <th>Total_Trans_Amt</th>\n",
       "      <td>7081.0</td>\n",
       "      <td>4.394300e+03</td>\n",
       "      <td>3.468462e+03</td>\n",
       "      <td>510.0</td>\n",
       "      <td>2.089000e+03</td>\n",
       "      <td>3.831000e+03</td>\n",
       "      <td>4.740000e+03</td>\n",
       "      <td>1.799500e+04</td>\n",
       "    </tr>\n",
       "    <tr>\n",
       "      <th>Total_Trans_Ct</th>\n",
       "      <td>7081.0</td>\n",
       "      <td>6.450332e+01</td>\n",
       "      <td>2.380933e+01</td>\n",
       "      <td>10.0</td>\n",
       "      <td>4.400000e+01</td>\n",
       "      <td>6.700000e+01</td>\n",
       "      <td>8.000000e+01</td>\n",
       "      <td>1.340000e+02</td>\n",
       "    </tr>\n",
       "    <tr>\n",
       "      <th>Avg_Utilization_Ratio</th>\n",
       "      <td>7081.0</td>\n",
       "      <td>2.823130e-01</td>\n",
       "      <td>2.787315e-01</td>\n",
       "      <td>0.0</td>\n",
       "      <td>2.600000e-02</td>\n",
       "      <td>1.860000e-01</td>\n",
       "      <td>5.150000e-01</td>\n",
       "      <td>9.990000e-01</td>\n",
       "    </tr>\n",
       "  </tbody>\n",
       "</table>\n",
       "</div>"
      ],
      "text/plain": [
       "                        count          mean           std          min  \\\n",
       "CLIENTNUM              7081.0  7.390919e+08  3.685244e+07  708082083.0   \n",
       "Age                    7081.0  4.634769e+01  8.041225e+00         26.0   \n",
       "Dependent_count        7081.0  2.337805e+00  1.291649e+00          0.0   \n",
       "Months_on_book         7081.0  3.598136e+01  8.002609e+00         13.0   \n",
       "Relationship Count     7081.0  3.819376e+00  1.544444e+00          1.0   \n",
       "Months Inactive        7081.0  2.342607e+00  9.951035e-01          0.0   \n",
       "Contacts_Count_12_mon  7081.0  2.454456e+00  1.104917e+00          0.0   \n",
       "Credit Limit           7081.0  8.492774e+03  9.126073e+03       1438.3   \n",
       "Total_Revolving_Bal    7081.0  1.167502e+03  8.123156e+02          0.0   \n",
       "Avg_Open_To_Buy        7081.0  7.325272e+03  9.131218e+03          3.0   \n",
       "Total_Trans_Amt        7081.0  4.394300e+03  3.468462e+03        510.0   \n",
       "Total_Trans_Ct         7081.0  6.450332e+01  2.380933e+01         10.0   \n",
       "Avg_Utilization_Ratio  7081.0  2.823130e-01  2.787315e-01          0.0   \n",
       "\n",
       "                                25%           50%           75%           max  \n",
       "CLIENTNUM              7.130105e+08  7.178438e+08  7.732370e+08  8.282989e+08  \n",
       "Age                    4.100000e+01  4.600000e+01  5.200000e+01  7.300000e+01  \n",
       "Dependent_count        1.000000e+00  2.000000e+00  3.000000e+00  5.000000e+00  \n",
       "Months_on_book         3.100000e+01  3.600000e+01  4.000000e+01  5.600000e+01  \n",
       "Relationship Count     3.000000e+00  4.000000e+00  5.000000e+00  6.000000e+00  \n",
       "Months Inactive        2.000000e+00  2.000000e+00  3.000000e+00  6.000000e+00  \n",
       "Contacts_Count_12_mon  2.000000e+00  2.000000e+00  3.000000e+00  6.000000e+00  \n",
       "Credit Limit           2.498000e+03  4.287000e+03  1.072900e+04  3.451600e+04  \n",
       "Total_Revolving_Bal    4.630000e+02  1.282000e+03  1.781000e+03  2.517000e+03  \n",
       "Avg_Open_To_Buy        1.248000e+03  3.250000e+03  9.491000e+03  3.451600e+04  \n",
       "Total_Trans_Amt        2.089000e+03  3.831000e+03  4.740000e+03  1.799500e+04  \n",
       "Total_Trans_Ct         4.400000e+01  6.700000e+01  8.000000e+01  1.340000e+02  \n",
       "Avg_Utilization_Ratio  2.600000e-02  1.860000e-01  5.150000e-01  9.990000e-01  "
      ]
     },
     "execution_count": 12,
     "metadata": {},
     "output_type": "execute_result"
    }
   ],
   "source": [
    "df.describe().T"
   ]
  },
  {
   "cell_type": "markdown",
   "id": "exposed-concern",
   "metadata": {},
   "source": [
    "---\n",
    "**Categorical data EDA**"
   ]
  },
  {
   "cell_type": "code",
   "execution_count": 13,
   "id": "cathedral-newman",
   "metadata": {},
   "outputs": [
    {
     "data": {
      "text/html": [
       "<div>\n",
       "<style scoped>\n",
       "    .dataframe tbody tr th:only-of-type {\n",
       "        vertical-align: middle;\n",
       "    }\n",
       "\n",
       "    .dataframe tbody tr th {\n",
       "        vertical-align: top;\n",
       "    }\n",
       "\n",
       "    .dataframe thead th {\n",
       "        text-align: right;\n",
       "    }\n",
       "</style>\n",
       "<table border=\"1\" class=\"dataframe\">\n",
       "  <thead>\n",
       "    <tr style=\"text-align: right;\">\n",
       "      <th></th>\n",
       "      <th>count</th>\n",
       "      <th>unique</th>\n",
       "      <th>top</th>\n",
       "      <th>freq</th>\n",
       "    </tr>\n",
       "  </thead>\n",
       "  <tbody>\n",
       "    <tr>\n",
       "      <th>Attrition_Flag</th>\n",
       "      <td>7081</td>\n",
       "      <td>2</td>\n",
       "      <td>Existing Customer</td>\n",
       "      <td>5968</td>\n",
       "    </tr>\n",
       "    <tr>\n",
       "      <th>Gender</th>\n",
       "      <td>7081</td>\n",
       "      <td>2</td>\n",
       "      <td>M</td>\n",
       "      <td>3706</td>\n",
       "    </tr>\n",
       "    <tr>\n",
       "      <th>Education</th>\n",
       "      <td>7081</td>\n",
       "      <td>6</td>\n",
       "      <td>Graduate</td>\n",
       "      <td>2591</td>\n",
       "    </tr>\n",
       "    <tr>\n",
       "      <th>Marital_Status</th>\n",
       "      <td>7081</td>\n",
       "      <td>3</td>\n",
       "      <td>Married</td>\n",
       "      <td>3564</td>\n",
       "    </tr>\n",
       "    <tr>\n",
       "      <th>Income</th>\n",
       "      <td>7081</td>\n",
       "      <td>5</td>\n",
       "      <td>Less than $40K</td>\n",
       "      <td>2792</td>\n",
       "    </tr>\n",
       "    <tr>\n",
       "      <th>Card Type</th>\n",
       "      <td>7081</td>\n",
       "      <td>4</td>\n",
       "      <td>Blue</td>\n",
       "      <td>6598</td>\n",
       "    </tr>\n",
       "  </tbody>\n",
       "</table>\n",
       "</div>"
      ],
      "text/plain": [
       "               count unique                top  freq\n",
       "Attrition_Flag  7081      2  Existing Customer  5968\n",
       "Gender          7081      2                  M  3706\n",
       "Education       7081      6           Graduate  2591\n",
       "Marital_Status  7081      3            Married  3564\n",
       "Income          7081      5     Less than $40K  2792\n",
       "Card Type       7081      4               Blue  6598"
      ]
     },
     "execution_count": 13,
     "metadata": {},
     "output_type": "execute_result"
    }
   ],
   "source": [
    "df.describe(include='object').T"
   ]
  },
  {
   "cell_type": "markdown",
   "id": "prescribed-essex",
   "metadata": {},
   "source": [
    "---\n",
    "**The different types of data in each column**"
   ]
  },
  {
   "cell_type": "code",
   "execution_count": 11,
   "id": "spiritual-tongue",
   "metadata": {},
   "outputs": [
    {
     "name": "stdout",
     "output_type": "stream",
     "text": [
      "The Attrition Flags are: ['Existing Customer' 'Attrited Customer']\n",
      "The Education types are: ['High School' 'Graduate' 'Uneducated' 'College' 'Post-Graduate'\n",
      " 'Doctorate']\n",
      "The Income types are: ['$60K - $80K' 'Less than $40K' '$80K - $120K' '$40K - $60K' '$120K +']\n",
      "The Card types are: ['Blue' 'Gold' 'Silver' 'Platinum']\n"
     ]
    }
   ],
   "source": [
    "print('The Attrition Flags are: {}'.format(df['Attrition_Flag'].unique()))\n",
    "print('The Education types are: {}'.format(df['Education'].unique()))\n",
    "print('The Income types are: {}'.format(df['Income'].unique()))\n",
    "print('The Card types are: {}'.format(df['Card Type'].unique()))"
   ]
  },
  {
   "cell_type": "markdown",
   "id": "later-japanese",
   "metadata": {},
   "source": [
    "## Some useful visualizations I found interesting."
   ]
  },
  {
   "cell_type": "code",
   "execution_count": 77,
   "id": "encouraging-timber",
   "metadata": {},
   "outputs": [
    {
     "data": {
      "image/png": "[encoded data removed]",
      "text/plain": [
       "<Figure size 432x288 with 1 Axes>"
      ]
     },
     "metadata": {},
     "output_type": "display_data"
    }
   ],
   "source": [
    "project_functions.sns.set_theme(font_scale=1.2)\n",
    "project_functions.sns.set_style(\"darkgrid\")\n",
    "project_functions.sns.countplot(x='Attrition_Flag', data=df).set_title('Attrition flag count')\n",
    "project_functions.plt.show()"
   ]
  },
  {
   "cell_type": "markdown",
   "id": "daily-state",
   "metadata": {},
   "source": [
    "This visualization shows that there are around 6000 customers who are still active and a little over 1000 have left the service."
   ]
  },
  {
   "cell_type": "code",
   "execution_count": 78,
   "id": "beneficial-greenhouse",
   "metadata": {},
   "outputs": [
    {
     "data": {
      "image/png": "[encoded data removed]",
      "text/plain": [
       "<Figure size 432x288 with 1 Axes>"
      ]
     },
     "metadata": {},
     "output_type": "display_data"
    }
   ],
   "source": [
    "project_functions.sns.set_theme(font_scale=1.5)\n",
    "project_functions.sns.set_style(\"whitegrid\")\n",
    "project_functions.sns.countplot(x='Card Type', data=df).set_title('Card type count')\n",
    "plt.show()"
   ]
  },
  {
   "cell_type": "code",
   "execution_count": 80,
   "id": "pleased-alarm",
   "metadata": {},
   "outputs": [
    {
     "data": {
      "image/png": "[encoded data removed]",
      "text/plain": [
       "<Figure size 432x288 with 1 Axes>"
      ]
     },
     "metadata": {},
     "output_type": "display_data"
    }
   ],
   "source": [
    "project_functions.sns.countplot(y='Income', hue='Card Type', data=df, palette='bright').set_title('Income split by Card type')\n",
    "plt.show()"
   ]
  },
  {
   "cell_type": "markdown",
   "id": "potential-liberal",
   "metadata": {},
   "source": [
    "- These observations above describes how the Card Type is related to Income.\n",
    "- As we can see, majority of the customers have a Blue card.\n",
    "- Most of the blue cards are owned by customers who earn less than 40k dollars a year.\n",
    "- Very few customers own the remaining 3 card types."
   ]
  },
  {
   "cell_type": "code",
   "execution_count": 89,
   "id": "magnetic-disabled",
   "metadata": {},
   "outputs": [
    {
     "data": {
      "image/png": "[encoded data removed]",
      "text/plain": [
       "<Figure size 432x288 with 1 Axes>"
      ]
     },
     "metadata": {},
     "output_type": "display_data"
    }
   ],
   "source": [
    "project_functions.sns.set_theme(font_scale=1.2)\n",
    "project_functions.sns.set_style(\"ticks\")\n",
    "plt.hist(df['Age'], bins=15)\n",
    "plt.title('Customer Age')\n",
    "plt.ylabel('Count')\n",
    "plt.xlabel('Age');\n",
    "plt.show()"
   ]
  },
  {
   "cell_type": "markdown",
   "id": "composed-occurrence",
   "metadata": {},
   "source": [
    "- This observations shows how the age of the customers is distributed.\n",
    "- We can see that majority of the customers are aged between 40 and 50."
   ]
  },
  {
   "cell_type": "code",
   "execution_count": 90,
   "id": "incredible-action",
   "metadata": {},
   "outputs": [
    {
     "data": {
      "image/png": "[encoded data removed]",
      "text/plain": [
       "<Figure size 432x288 with 1 Axes>"
      ]
     },
     "metadata": {},
     "output_type": "display_data"
    }
   ],
   "source": [
    "df['Education'].value_counts().plot(kind='pie', label=' ', autopct='%1.0f%%')\n",
    "plt.title('Customer Education')\n",
    "plt.show()"
   ]
  },
  {
   "cell_type": "markdown",
   "id": "macro-longer",
   "metadata": {},
   "source": [
    "- This is a pie chart containing the information of the customers education level.\n",
    "- From the chart, we see that majority of the customers are Graduates (37%)\n",
    "- The least numbers are of Doctorates and Post-Graduates. "
   ]
  }
 ],
 "metadata": {
  "kernelspec": {
   "display_name": "Python 3",
   "language": "python",
   "name": "python3"
  },
  "language_info": {
   "codemirror_mode": {
    "name": "ipython",
    "version": 3
   },
   "file_extension": ".py",
   "mimetype": "text/x-python",
   "name": "python",
   "nbconvert_exporter": "python",
   "pygments_lexer": "ipython3",
   "version": "3.8.5"
  }
 },
 "nbformat": 4,
 "nbformat_minor": 5
}
